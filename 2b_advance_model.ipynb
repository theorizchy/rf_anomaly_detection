{
 "cells": [
  {
   "cell_type": "code",
   "execution_count": 1,
   "metadata": {},
   "outputs": [],
   "source": [
    "import os\n",
    "import pandas as pd\n",
    "import numpy as np\n",
    "\n",
    "# Set TF_GPU_ALLOCATOR environment variable\n",
    "os.environ['TF_GPU_ALLOCATOR'] = 'cuda_malloc_async'\n",
    "\n",
    "import tensorflow as tf\n",
    "from tensorflow import keras\n",
    "from tensorflow.keras.models import save_model\n",
    "from tensorflow.keras.models import load_model\n",
    "from keras_tuner import RandomSearch\n",
    "from keras_tuner import HyperParameters\n",
    "from sklearn.preprocessing import StandardScaler\n",
    "import joblib\n",
    "\n",
    "import warnings\n",
    "# Suppress all warnings\n",
    "warnings.filterwarnings(\"ignore\")"
   ]
  },
  {
   "cell_type": "code",
   "execution_count": 2,
   "metadata": {},
   "outputs": [],
   "source": [
    "# Load back X_train, X_test, y_train, and y_test\n",
    "X_train = np.loadtxt('train_data/X_train_t10.txt')\n",
    "X_test = np.loadtxt('train_data/X_test_t10.txt')\n",
    "y_train = np.loadtxt('train_data/y_train_t10.txt')\n",
    "y_test = np.loadtxt('train_data/y_test_t10.txt')\n",
    "\n",
    "# Load the scaler for data normalization\n",
    "scaler_file = 'models/scaler.pkl'\n",
    "scaler = joblib.load(scaler_file)\n",
    "X_train_scaled = scaler.fit_transform(X_train)\n",
    "X_test_scaled = scaler.transform(X_test)\n"
   ]
  },
  {
   "cell_type": "markdown",
   "metadata": {},
   "source": [
    "CNN for Feature Extraction:\n",
    "\n",
    "- Start with a CNN to extract features from the power measurements at different frequencies. Since the frequency information is spatially related, we can treat it as an image where each frequency bin is a pixel. Design the CNN architecture to have convolutional layers to capture local patterns in the frequency domain. The output of the CNN will be a feature map capturing important frequency-domain features.\n",
    "\n",
    "RNN for Temporal Modeling:\n",
    "- Feed the output of the CNN into an RNN (such as LSTM or GRU) to model temporal dependencies in the time-series data.\n",
    "- The RNN will capture the temporal dynamics and sequential patterns in the power measurements over time.\n",
    "\n",
    "This architecture allows the model to learn both frequency-domain features and temporal dependencies simultaneously.\n",
    "\n",
    "Hybrid CNN-RNN Architecture:\n",
    "- We can design a hybrid architecture where the CNN and RNN parts are connected sequentially. The CNN part processes the input frequency data to extract features, and the output is then fed into the RNN for temporal modeling.\n",
    "- This architecture allows for both spatial (frequency) and temporal information to be captured effectively."
   ]
  },
  {
   "cell_type": "code",
   "execution_count": 3,
   "metadata": {},
   "outputs": [],
   "source": [
    "# Reshape the data to 3D for CNN input (samples, time steps, features)\n",
    "X_train_reshaped = X_train_scaled.reshape(X_train_scaled.shape[0], X_train_scaled.shape[1], 1)\n",
    "X_test_reshaped = X_test_scaled.reshape(X_test_scaled.shape[0], X_test_scaled.shape[1], 1)\n",
    "y_train_reshaped = y_train.reshape((-1, 1))\n",
    "y_test_reshaped = y_test.reshape((-1, 1))"
   ]
  },
  {
   "cell_type": "markdown",
   "metadata": {},
   "source": [
    "I am building a hybrid CNN and RNN model, taking power measurement of RF activity from 0 to 6.0 GHz to determine whether a camera is being turned on or off, based on its electromagnetic emanation. I have the raw data splitted accoring to these variables: X_train, X_test, y_trarin, y_test are numpy array of dimension (1637, 76802), (410, 76802), (1637,), (410,) respectively, where the row is capture data taken every seconds, and columns are power measurement in dBm (watts) from 0 to 6.0 GHz frequency taken by spectrum analyzer\n"
   ]
  },
  {
   "cell_type": "code",
   "execution_count": 1,
   "metadata": {},
   "outputs": [],
   "source": [
    "from tensorflow import keras\n",
    "\n",
    "def build_model(hp):\n",
    "    model = keras.Sequential()\n",
    "\n",
    "    # For example, if your data is reshaped to (frequency_bins, time_steps, 1)\n",
    "    input_shape = (X_train_reshaped.shape[1], 1, 1)\n",
    "    \n",
    "    # Add convolutional layers\n",
    "    model.add(keras.layers.Conv2D(32, (3, 1), activation='relu', input_shape=input_shape))\n",
    "    model.add(keras.layers.MaxPooling2D((2, 1)))  # Reduce only in one dimension\n",
    "    model.add(keras.layers.Conv2D(64, (3, 1), activation='relu'))\n",
    "    model.add(keras.layers.MaxPooling2D((2, 1)))  # Reduce only in one dimension\n",
    "    model.add(keras.layers.Conv2D(128, (3, 1), activation='relu'))\n",
    "    model.add(keras.layers.MaxPooling2D((2, 1)))  # Reduce only in one dimension\n",
    "\n",
    "    # Flatten the output and add dense layers\n",
    "    model.add(keras.layers.Flatten())\n",
    "    model.add(keras.layers.Dense(128, activation='relu'))\n",
    "    model.add(keras.layers.Dense(64, activation='relu'))\n",
    "    model.add(keras.layers.Dropout(0.5))\n",
    "    model.add(keras.layers.Dense(32, activation='relu'))\n",
    "    model.add(keras.layers.Dense(1, activation='sigmoid'))\n",
    "\n",
    "    # Compile the model\n",
    "    model.compile(optimizer='adam',\n",
    "                  loss='binary_crossentropy',\n",
    "                  metrics=['accuracy'])\n",
    "\n",
    "    return model"
   ]
  },
  {
   "cell_type": "markdown",
   "metadata": {},
   "source": [
    "Define a keras tuner for random search"
   ]
  },
  {
   "cell_type": "code",
   "execution_count": 5,
   "metadata": {},
   "outputs": [
    {
     "name": "stdout",
     "output_type": "stream",
     "text": [
      "Trial 1 Complete [00h 00m 09s]\n",
      "val_accuracy: 1.0\n",
      "\n",
      "Best val_accuracy So Far: 1.0\n",
      "Total elapsed time: 00h 00m 09s\n"
     ]
    }
   ],
   "source": [
    "# Define the Keras Tuner RandomSearch\n",
    "tuner = RandomSearch( build_model,\n",
    "                      objective='val_accuracy',\n",
    "                      max_trials=10,\n",
    "                      executions_per_trial=1,\n",
    "                      directory='keras_tuning_10',\n",
    "                      project_name='cnn_rnn_tuner')\n",
    "\n",
    "# Perform hyperparameter search\n",
    "tuner.search(X_train_reshaped, y_train_reshaped,\n",
    "             epochs=10,\n",
    "             validation_data=(X_test_reshaped, y_test_reshaped))"
   ]
  },
  {
   "cell_type": "markdown",
   "metadata": {},
   "source": [
    "Get the best model"
   ]
  },
  {
   "cell_type": "code",
   "execution_count": 6,
   "metadata": {},
   "outputs": [],
   "source": [
    "# Get the best model\n",
    "best_model = tuner.get_best_models(num_models=1)[0]\n",
    "# Save the Keras model to an HDF5 file\n",
    "model_file_path = os.path.join('models', 'hybrid_cnn_rnn.h5')\n",
    "best_model.save(model_file_path)"
   ]
  },
  {
   "cell_type": "code",
   "execution_count": 7,
   "metadata": {},
   "outputs": [],
   "source": [
    "# Get best hyperparameters\n",
    "best_hyperparameters = tuner.get_best_hyperparameters(num_trials=1)[0]"
   ]
  },
  {
   "cell_type": "code",
   "execution_count": 8,
   "metadata": {},
   "outputs": [
    {
     "name": "stdout",
     "output_type": "stream",
     "text": [
      "13/13 [==============================] - 0s 4ms/step - loss: 9.5177e-04 - accuracy: 1.0000\n",
      "[0.0009517695871181786, 1.0]\n"
     ]
    }
   ],
   "source": [
    "# Evaluate the best model\n",
    "evaluation = best_model.evaluate(X_test_reshaped, y_test_reshaped)\n",
    "# Print evaluation results\n",
    "print(evaluation)"
   ]
  },
  {
   "cell_type": "code",
   "execution_count": 9,
   "metadata": {},
   "outputs": [
    {
     "name": "stdout",
     "output_type": "stream",
     "text": [
      "Model: \"sequential\"\n",
      "_________________________________________________________________\n",
      " Layer (type)                Output Shape              Param #   \n",
      "=================================================================\n",
      " conv2d (Conv2D)             (None, 6554, 1, 32)       128       \n",
      "                                                                 \n",
      " max_pooling2d (MaxPooling2D  (None, 3277, 1, 32)      0         \n",
      " )                                                               \n",
      "                                                                 \n",
      " conv2d_1 (Conv2D)           (None, 3275, 1, 64)       6208      \n",
      "                                                                 \n",
      " max_pooling2d_1 (MaxPooling  (None, 1637, 1, 64)      0         \n",
      " 2D)                                                             \n",
      "                                                                 \n",
      " conv2d_2 (Conv2D)           (None, 1635, 1, 128)      24704     \n",
      "                                                                 \n",
      " max_pooling2d_2 (MaxPooling  (None, 817, 1, 128)      0         \n",
      " 2D)                                                             \n",
      "                                                                 \n",
      " flatten (Flatten)           (None, 104576)            0         \n",
      "                                                                 \n",
      " dense (Dense)               (None, 128)               13385856  \n",
      "                                                                 \n",
      " dense_1 (Dense)             (None, 64)                8256      \n",
      "                                                                 \n",
      " dropout (Dropout)           (None, 64)                0         \n",
      "                                                                 \n",
      " dense_2 (Dense)             (None, 32)                2080      \n",
      "                                                                 \n",
      " dense_3 (Dense)             (None, 1)                 33        \n",
      "                                                                 \n",
      "=================================================================\n",
      "Total params: 13,427,265\n",
      "Trainable params: 13,427,265\n",
      "Non-trainable params: 0\n",
      "_________________________________________________________________\n"
     ]
    }
   ],
   "source": [
    "best_model.summary()"
   ]
  },
  {
   "cell_type": "code",
   "execution_count": 10,
   "metadata": {},
   "outputs": [
    {
     "name": "stdout",
     "output_type": "stream",
     "text": [
      "Input Layers:\n",
      "KerasTensor(type_spec=TensorSpec(shape=(None, 6556, 1, 1), dtype=tf.float32, name='conv2d_input'), name='conv2d_input', description=\"created by layer 'conv2d_input'\")\n",
      "Output Layers:\n",
      "KerasTensor(type_spec=TensorSpec(shape=(None, 6554, 1, 32), dtype=tf.float32, name=None), name='conv2d/Relu:0', description=\"created by layer 'conv2d'\")\n",
      "Input Layers:\n",
      "KerasTensor(type_spec=TensorSpec(shape=(None, 6554, 1, 32), dtype=tf.float32, name=None), name='conv2d/Relu:0', description=\"created by layer 'conv2d'\")\n",
      "Output Layers:\n",
      "KerasTensor(type_spec=TensorSpec(shape=(None, 3277, 1, 32), dtype=tf.float32, name=None), name='max_pooling2d/MaxPool:0', description=\"created by layer 'max_pooling2d'\")\n",
      "Input Layers:\n",
      "KerasTensor(type_spec=TensorSpec(shape=(None, 3277, 1, 32), dtype=tf.float32, name=None), name='max_pooling2d/MaxPool:0', description=\"created by layer 'max_pooling2d'\")\n",
      "Output Layers:\n",
      "KerasTensor(type_spec=TensorSpec(shape=(None, 3275, 1, 64), dtype=tf.float32, name=None), name='conv2d_1/Relu:0', description=\"created by layer 'conv2d_1'\")\n",
      "Input Layers:\n",
      "KerasTensor(type_spec=TensorSpec(shape=(None, 3275, 1, 64), dtype=tf.float32, name=None), name='conv2d_1/Relu:0', description=\"created by layer 'conv2d_1'\")\n",
      "Output Layers:\n",
      "KerasTensor(type_spec=TensorSpec(shape=(None, 1637, 1, 64), dtype=tf.float32, name=None), name='max_pooling2d_1/MaxPool:0', description=\"created by layer 'max_pooling2d_1'\")\n",
      "Input Layers:\n",
      "KerasTensor(type_spec=TensorSpec(shape=(None, 1637, 1, 64), dtype=tf.float32, name=None), name='max_pooling2d_1/MaxPool:0', description=\"created by layer 'max_pooling2d_1'\")\n",
      "Output Layers:\n",
      "KerasTensor(type_spec=TensorSpec(shape=(None, 1635, 1, 128), dtype=tf.float32, name=None), name='conv2d_2/Relu:0', description=\"created by layer 'conv2d_2'\")\n",
      "Input Layers:\n",
      "KerasTensor(type_spec=TensorSpec(shape=(None, 1635, 1, 128), dtype=tf.float32, name=None), name='conv2d_2/Relu:0', description=\"created by layer 'conv2d_2'\")\n",
      "Output Layers:\n",
      "KerasTensor(type_spec=TensorSpec(shape=(None, 817, 1, 128), dtype=tf.float32, name=None), name='max_pooling2d_2/MaxPool:0', description=\"created by layer 'max_pooling2d_2'\")\n",
      "Input Layers:\n",
      "KerasTensor(type_spec=TensorSpec(shape=(None, 817, 1, 128), dtype=tf.float32, name=None), name='max_pooling2d_2/MaxPool:0', description=\"created by layer 'max_pooling2d_2'\")\n",
      "Output Layers:\n",
      "KerasTensor(type_spec=TensorSpec(shape=(None, 104576), dtype=tf.float32, name=None), name='flatten/Reshape:0', description=\"created by layer 'flatten'\")\n",
      "Input Layers:\n",
      "KerasTensor(type_spec=TensorSpec(shape=(None, 104576), dtype=tf.float32, name=None), name='flatten/Reshape:0', description=\"created by layer 'flatten'\")\n",
      "Output Layers:\n",
      "KerasTensor(type_spec=TensorSpec(shape=(None, 128), dtype=tf.float32, name=None), name='dense/Relu:0', description=\"created by layer 'dense'\")\n",
      "Input Layers:\n",
      "KerasTensor(type_spec=TensorSpec(shape=(None, 128), dtype=tf.float32, name=None), name='dense/Relu:0', description=\"created by layer 'dense'\")\n",
      "Output Layers:\n",
      "KerasTensor(type_spec=TensorSpec(shape=(None, 64), dtype=tf.float32, name=None), name='dense_1/Relu:0', description=\"created by layer 'dense_1'\")\n",
      "Input Layers:\n",
      "KerasTensor(type_spec=TensorSpec(shape=(None, 64), dtype=tf.float32, name=None), name='dense_1/Relu:0', description=\"created by layer 'dense_1'\")\n",
      "Output Layers:\n",
      "KerasTensor(type_spec=TensorSpec(shape=(None, 64), dtype=tf.float32, name=None), name='dropout/Identity:0', description=\"created by layer 'dropout'\")\n",
      "Input Layers:\n",
      "KerasTensor(type_spec=TensorSpec(shape=(None, 64), dtype=tf.float32, name=None), name='dropout/Identity:0', description=\"created by layer 'dropout'\")\n",
      "Output Layers:\n",
      "KerasTensor(type_spec=TensorSpec(shape=(None, 32), dtype=tf.float32, name=None), name='dense_2/Relu:0', description=\"created by layer 'dense_2'\")\n",
      "Input Layers:\n",
      "KerasTensor(type_spec=TensorSpec(shape=(None, 32), dtype=tf.float32, name=None), name='dense_2/Relu:0', description=\"created by layer 'dense_2'\")\n",
      "Output Layers:\n",
      "KerasTensor(type_spec=TensorSpec(shape=(None, 1), dtype=tf.float32, name=None), name='dense_3/Sigmoid:0', description=\"created by layer 'dense_3'\")\n"
     ]
    }
   ],
   "source": [
    "for layer in best_model.layers:\n",
    "    print('Input Layers:')\n",
    "    print(layer.input)\n",
    "    print('Output Layers:')\n",
    "    print(layer.output)"
   ]
  }
 ],
 "metadata": {
  "kernelspec": {
   "display_name": "venv",
   "language": "python",
   "name": "python3"
  },
  "language_info": {
   "codemirror_mode": {
    "name": "ipython",
    "version": 3
   },
   "file_extension": ".py",
   "mimetype": "text/x-python",
   "name": "python",
   "nbconvert_exporter": "python",
   "pygments_lexer": "ipython3",
   "version": "3.8.0"
  }
 },
 "nbformat": 4,
 "nbformat_minor": 2
}
